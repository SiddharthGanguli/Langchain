{
 "cells": [
  {
   "cell_type": "markdown",
   "id": "1a3c26a8",
   "metadata": {},
   "source": [
    "### Normally, LLMs are stateless — they forget everything after each message.\n",
    "LangChain Memory helps remember past interactions between a human and the LLM."
   ]
  },
  {
   "cell_type": "markdown",
   "id": "0ad5f930",
   "metadata": {},
   "source": [
    "This is useful for: <br>\n",
    "<br>\n",
    "\n",
    "\n",
    "Carrying on a multi-turn conversation <br>\n",
    "\n",
    "Letting the AI remember facts like your name, goals, preferences<br>\n",
    "\n",
    "\n",
    "Building chatbots or virtual assistants\n",
    "\n"
   ]
  },
  {
   "cell_type": "markdown",
   "id": "a45b8ee5",
   "metadata": {},
   "source": [
    "#### The most common memory types in LangChain\n",
    "\n",
    "1. ConversationBufferMemory\tStores the entire chat history as a string <br>\n",
    "2. ConversationBufferWindowMemory\tStores only the last N messages. <br>\n",
    "3. ConversationTokenBufferMemory\tStores last N tokens (not messages). <br>\n",
    "4. ConversationSummaryMemory\tSummarizes chat history (instead of storing full text). <br>\n",
    "5. VectorStoreRetrieverMemory\tStores memories as embeddings, retrieves based on similarity. <br>\n",
    "6. ZepMemory / RedisMemory / others\tExternal memory store"
   ]
  },
  {
   "cell_type": "markdown",
   "id": "5e5e3aab",
   "metadata": {},
   "source": [
    "## ConversationBufferMemory – Full Chat History (Simple)\n"
   ]
  },
  {
   "cell_type": "code",
   "execution_count": 35,
   "id": "c8d12c61",
   "metadata": {},
   "outputs": [
    {
     "name": "stdout",
     "output_type": "stream",
     "text": [
      "\n",
      "\n",
      "\u001b[1m> Entering new ConversationChain chain...\u001b[0m\n",
      "Prompt after formatting:\n",
      "\u001b[32;1m\u001b[1;3mThe following is a friendly conversation between a human and an AI. The AI is talkative and provides lots of specific details from its context. If the AI does not know the answer to a question, it truthfully says it does not know.\n",
      "\n",
      "Current conversation:\n",
      "\n",
      "Human: Hi, I'm Siddhartha.\n",
      "AI:\u001b[0m\n",
      "\n",
      "\u001b[1m> Finished chain.\u001b[0m\n",
      "{'input': \"Hi, I'm Siddhartha.\", 'history': '', 'response': \"Nice to meet you, Siddhartha! I'm LLaMA, an AI trained by Meta AI that can converse on various topics. I've been designed to be chatty and provide as much information as possible. So, what's on your mind? Would you like to talk about something specific or just enjoy a friendly conversation? By the way, did you know that I was trained on a massive dataset of text from the internet, which includes a wide range of topics, styles, and formats? It's allowed me to develop a sense of humor and understand nuances in human language.\"}\n",
      "\n",
      "\n",
      "\u001b[1m> Entering new ConversationChain chain...\u001b[0m\n",
      "Prompt after formatting:\n",
      "\u001b[32;1m\u001b[1;3mThe following is a friendly conversation between a human and an AI. The AI is talkative and provides lots of specific details from its context. If the AI does not know the answer to a question, it truthfully says it does not know.\n",
      "\n",
      "Current conversation:\n",
      "Human: Hi, I'm Siddhartha.\n",
      "AI: Nice to meet you, Siddhartha! I'm LLaMA, an AI trained by Meta AI that can converse on various topics. I've been designed to be chatty and provide as much information as possible. So, what's on your mind? Would you like to talk about something specific or just enjoy a friendly conversation? By the way, did you know that I was trained on a massive dataset of text from the internet, which includes a wide range of topics, styles, and formats? It's allowed me to develop a sense of humor and understand nuances in human language.\n",
      "Human: What is my name?\n",
      "AI:\u001b[0m\n",
      "\n",
      "\u001b[1m> Finished chain.\u001b[0m\n",
      "{'input': 'What is my name?', 'history': \"Human: Hi, I'm Siddhartha.\\nAI: Nice to meet you, Siddhartha! I'm LLaMA, an AI trained by Meta AI that can converse on various topics. I've been designed to be chatty and provide as much information as possible. So, what's on your mind? Would you like to talk about something specific or just enjoy a friendly conversation? By the way, did you know that I was trained on a massive dataset of text from the internet, which includes a wide range of topics, styles, and formats? It's allowed me to develop a sense of humor and understand nuances in human language.\", 'response': 'Siddhartha! Your name is Siddhartha. I\\'m glad you asked, because it\\'s always great to know the name of the person I\\'m chatting with. By the way, did you know that Siddhartha is a name with roots in ancient India? In Sanskrit, \"Siddhartha\" means \"he who has achieved his goal.\" It\\'s a fascinating name with a rich history!'}\n"
     ]
    }
   ],
   "source": [
    "from langchain_community.llms import Ollama\n",
    "from langchain.chains import ConversationChain\n",
    "from langchain.memory import ConversationBufferMemory\n",
    "\n",
    "llm = Ollama(model=\"llama3\")\n",
    "memory = ConversationBufferMemory()\n",
    "\n",
    "conversation = ConversationChain(\n",
    "    llm=llm,\n",
    "    memory=memory,\n",
    "    verbose=True\n",
    ")\n",
    "\n",
    "print(conversation.invoke(\"Hi, I'm Siddhartha.\"))\n",
    "print(conversation.invoke(\"What is my name?\"))\n"
   ]
  },
  {
   "cell_type": "code",
   "execution_count": 36,
   "id": "1964dd65",
   "metadata": {},
   "outputs": [
    {
     "name": "stdout",
     "output_type": "stream",
     "text": [
      "Human: Hi, I'm Siddhartha.\n",
      "AI: Nice to meet you, Siddhartha! I'm LLaMA, an AI trained by Meta AI that can converse on various topics. I've been designed to be chatty and provide as much information as possible. So, what's on your mind? Would you like to talk about something specific or just enjoy a friendly conversation? By the way, did you know that I was trained on a massive dataset of text from the internet, which includes a wide range of topics, styles, and formats? It's allowed me to develop a sense of humor and understand nuances in human language.\n",
      "Human: What is my name?\n",
      "AI: Siddhartha! Your name is Siddhartha. I'm glad you asked, because it's always great to know the name of the person I'm chatting with. By the way, did you know that Siddhartha is a name with roots in ancient India? In Sanskrit, \"Siddhartha\" means \"he who has achieved his goal.\" It's a fascinating name with a rich history!\n"
     ]
    }
   ],
   "source": [
    "print(memory.buffer)\n"
   ]
  },
  {
   "cell_type": "markdown",
   "id": "ea51022d",
   "metadata": {},
   "source": [
    "### VectorStoreRetrieverMemory\n",
    "\n",
    "Converts messages into embeddings, retrieves based on similarity.<br>\n",
    "We’ll need vector DB setup (e.g., Chroma, FAISS)"
   ]
  },
  {
   "cell_type": "markdown",
   "id": "91ad52f2",
   "metadata": {},
   "source": []
  }
 ],
 "metadata": {
  "language_info": {
   "name": "python"
  }
 },
 "nbformat": 4,
 "nbformat_minor": 5
}
