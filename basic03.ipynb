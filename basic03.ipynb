{
 "cells": [
  {
   "cell_type": "markdown",
   "id": "98ecab68",
   "metadata": {},
   "source": [
    "## Making LLM prompts reusable"
   ]
  },
  {
   "cell_type": "code",
   "execution_count": 5,
   "id": "fad28962",
   "metadata": {},
   "outputs": [],
   "source": [
    "from langchain_core.messages import HumanMessage,SystemMessage\n",
    "from langchain_community.llms import Ollama\n",
    "from langchain_core.prompts import ChatPromptTemplate\n"
   ]
  },
  {
   "cell_type": "code",
   "execution_count": null,
   "id": "d2e7d2df",
   "metadata": {},
   "outputs": [],
   "source": [
    "model=Ollama(model='llama3')\n",
    "# model=Ollama(model='gemma:2b')"
   ]
  },
  {
   "cell_type": "code",
   "execution_count": 7,
   "id": "ebc3e6e4",
   "metadata": {},
   "outputs": [],
   "source": [
    "template = ChatPromptTemplate.from_messages([\n",
    "    ('system', 'You are a chat model. Your name is Rik. Answer the following questions based on the context provided.'),\n",
    "    ('human', 'Context: {context}'),\n",
    "    ('human', 'Question: {question}')\n",
    "])\n"
   ]
  },
  {
   "cell_type": "code",
   "execution_count": 9,
   "id": "45e14a98",
   "metadata": {},
   "outputs": [],
   "source": [
    "prompt = template.invoke({\n",
    "    'context': '''I am a software engineer with 5 years of experience in developing web applications.\n",
    "    I have worked with a variety of technologies including Python, JavaScript, and SQL.\n",
    "    I am looking to transition into a DevOps role and am interested in learning more about the field.''',\n",
    "    'question': 'What are the key responsibilities of a DevOps engineer ?'\n",
    "})"
   ]
  },
  {
   "cell_type": "code",
   "execution_count": 12,
   "id": "d37bddc2",
   "metadata": {},
   "outputs": [
    {
     "name": "stdout",
     "output_type": "stream",
     "text": [
      "As a fellow tech enthusiast, I'm excited to help you explore the world of DevOps!\n",
      "\n",
      "As a DevOps engineer, your primary responsibilities would revolve around ensuring smooth collaboration between development (Dev) and operations (Ops) teams. Here are some key responsibilities:\n",
      "\n",
      "1. **Automation**: Implement automation tools and scripts to streamline processes, reduce manual errors, and increase efficiency in various areas like testing, deployment, and monitoring.\n",
      "2. **Infrastructure Management**: Design, configure, and manage infrastructure for applications, including cloud platforms (AWS, Azure, Google Cloud), containerization (Docker), and serverless architectures.\n",
      "3. **CI/CD Pipelines**: Set up and maintain Continuous Integration (CI) and Continuous Deployment (CD) pipelines to ensure rapid and reliable delivery of code changes into production environments.\n",
      "4. **Monitoring and Logging**: Implement monitoring tools (e.g., Nagios, Prometheus, Grafana) and logging mechanisms (e.g., ELK Stack, Splunk) to track application performance, detect issues, and facilitate root cause analysis.\n",
      "5. **Collaboration**: Work closely with development teams to ensure that changes are properly tested, deployed, and monitored, fostering a culture of collaboration and continuous improvement.\n",
      "6. **Security**: Implement security best practices, such as code reviews, secure coding guidelines, and vulnerability management, to protect applications from potential threats.\n",
      "7. **Cost Optimization**: Analyze and optimize infrastructure costs by right-sizing resources, utilizing reserved instances, and implementing cost-effective deployment strategies.\n",
      "8. **Knowledge Sharing**: Stay up-to-date with industry trends, best practices, and emerging technologies, and share knowledge with colleagues to drive innovation and improvement.\n",
      "\n",
      "As you transition into a DevOps role, focus on developing skills in areas like:\n",
      "\n",
      "* Cloud platforms (AWS, Azure, Google Cloud)\n",
      "* Containerization (Docker)\n",
      "* Automation frameworks (Ansible, Terraform, Jenkins)\n",
      "* Monitoring and logging tools\n",
      "* Agile methodologies (Scrum, Kanban)\n",
      "\n",
      "Keep in mind that DevOps is a continuous learning journey. Be prepared to stay curious, adapt to changing technologies, and continuously improve processes.\n",
      "\n",
      "How does this help you get started with your DevOps journey?\n"
     ]
    }
   ],
   "source": [
    "output = model.invoke(prompt)\n",
    "print(output)"
   ]
  }
 ],
 "metadata": {
  "kernelspec": {
   "display_name": "langchain",
   "language": "python",
   "name": "python3"
  },
  "language_info": {
   "codemirror_mode": {
    "name": "ipython",
    "version": 3
   },
   "file_extension": ".py",
   "mimetype": "text/x-python",
   "name": "python",
   "nbconvert_exporter": "python",
   "pygments_lexer": "ipython3",
   "version": "3.10.12"
  }
 },
 "nbformat": 4,
 "nbformat_minor": 5
}
