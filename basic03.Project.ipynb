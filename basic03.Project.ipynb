{
 "cells": [
  {
   "cell_type": "markdown",
   "id": "ba0a568f",
   "metadata": {},
   "source": [
    "## Personal Assistant\n",
    "#### personal expanse assistant part 1"
   ]
  },
  {
   "cell_type": "code",
   "execution_count": 2,
   "id": "e1d4c4a0",
   "metadata": {},
   "outputs": [],
   "source": [
    "from langchain_community.llms import Ollama\n",
    "from langchain_core.messages import HumanMessage,SystemMessage\n",
    "from langchain_core.prompts import ChatPromptTemplate"
   ]
  },
  {
   "cell_type": "code",
   "execution_count": 13,
   "id": "3fada0e1",
   "metadata": {},
   "outputs": [],
   "source": [
    "import pandas as pd\n",
    "df = pd.read_csv(\"expanse.csv\")\n",
    "context = df.to_string(index=False)"
   ]
  },
  {
   "cell_type": "code",
   "execution_count": 4,
   "id": "aa37d60c",
   "metadata": {},
   "outputs": [],
   "source": [
    "template = ChatPromptTemplate.from_messages([\n",
    "    (\"system\", \"You are a helpful financial assistant. Use the expense data below to answer the question.\"),\n",
    "    (\"human\", \"Context: {context}\"),\n",
    "    (\"human\", \"Question: {question}\")\n",
    "])"
   ]
  },
  {
   "cell_type": "code",
   "execution_count": 5,
   "id": "7a2be3f2",
   "metadata": {},
   "outputs": [],
   "source": [
    "question = input(\"Ask a career-related question: \")"
   ]
  },
  {
   "cell_type": "code",
   "execution_count": 6,
   "id": "7ce22868",
   "metadata": {},
   "outputs": [],
   "source": [
    "prompt = template.invoke({\n",
    "    \"context\": context,\n",
    "    \"question\": question\n",
    "})\n"
   ]
  },
  {
   "cell_type": "code",
   "execution_count": 11,
   "id": "6b0f1829",
   "metadata": {},
   "outputs": [],
   "source": [
    "model = Ollama(model=\"llama3\")"
   ]
  },
  {
   "cell_type": "code",
   "execution_count": 12,
   "id": "0b8b4f73",
   "metadata": {},
   "outputs": [
    {
     "name": "stdout",
     "output_type": "stream",
     "text": [
      "\n",
      "Career Advisor AI:\n",
      " Based on the expense data provided, here are the highest expenses for each category from August 2024 to January 2025:\n",
      "\n",
      "**Highest Expenses by Category**\n",
      "\n",
      "1. **Healthcare**: $16,212 (January 30)\n",
      "2. **Groceries**: $15,370 (January 31)\n",
      "3. **Travel**: $10,100 (January 21)\n",
      "4. **Shopping**: $8,860 (January 29)\n",
      "5. **Bills**: $6,065 (January 31)\n",
      "\n",
      "**Total Highest Expenses for August to January**: $56,497\n"
     ]
    }
   ],
   "source": [
    "response = model.invoke(prompt)\n",
    "print(\"\\nCareer Advisor AI:\\n\",response)"
   ]
  },
  {
   "cell_type": "code",
   "execution_count": null,
   "id": "b4e1c5f9",
   "metadata": {},
   "outputs": [],
   "source": []
  }
 ],
 "metadata": {
  "kernelspec": {
   "display_name": "langchain",
   "language": "python",
   "name": "python3"
  },
  "language_info": {
   "codemirror_mode": {
    "name": "ipython",
    "version": 3
   },
   "file_extension": ".py",
   "mimetype": "text/x-python",
   "name": "python",
   "nbconvert_exporter": "python",
   "pygments_lexer": "ipython3",
   "version": "3.10.12"
  }
 },
 "nbformat": 4,
 "nbformat_minor": 5
}
